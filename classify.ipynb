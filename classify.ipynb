{
 "cells": [
  {
   "cell_type": "code",
   "execution_count": null,
   "metadata": {},
   "outputs": [],
   "source": [
    "!pip install tensorflow-hub"
   ]
  },
  {
   "cell_type": "code",
   "execution_count": 1,
   "metadata": {},
   "outputs": [
    {
     "name": "stdout",
     "output_type": "stream",
     "text": [
      "WARNING:tensorflow:From c:\\Users\\praga\\Documents\\Projects\\Traffic-Hand-gesture\\venv\\Lib\\site-packages\\tf_keras\\src\\losses.py:2976: The name tf.losses.sparse_softmax_cross_entropy is deprecated. Please use tf.compat.v1.losses.sparse_softmax_cross_entropy instead.\n",
      "\n"
     ]
    }
   ],
   "source": [
    "import os\n",
    "import random\n",
    "import shutil\n",
    "import csv\n",
    "import cv2\n",
    "import itertools\n",
    "import numpy as np\n",
    "import pandas as pd\n",
    "import sys\n",
    "import tempfile\n",
    "import tqdm\n",
    "import time\n",
    "\n",
    "from matplotlib import pyplot as plt\n",
    "from matplotlib.collections import LineCollection\n",
    "\n",
    "import tensorflow as tf\n",
    "import tensorflow_hub as hub\n",
    "from tensorflow import keras\n",
    "from PIL import Image\n",
    "from sklearn.model_selection import train_test_split\n",
    "from sklearn.metrics import accuracy_score, classification_report, confusion_matrix"
   ]
  },
  {
   "cell_type": "code",
   "execution_count": 2,
   "metadata": {},
   "outputs": [
    {
     "name": "stdout",
     "output_type": "stream",
     "text": [
      "WARNING:tensorflow:From c:\\Users\\praga\\Documents\\Projects\\Traffic-Hand-gesture\\venv\\Lib\\site-packages\\tensorflow_hub\\resolver.py:120: The name tf.gfile.MakeDirs is deprecated. Please use tf.io.gfile.makedirs instead.\n",
      "\n"
     ]
    },
    {
     "name": "stderr",
     "output_type": "stream",
     "text": [
      "WARNING:tensorflow:From c:\\Users\\praga\\Documents\\Projects\\Traffic-Hand-gesture\\venv\\Lib\\site-packages\\tensorflow_hub\\resolver.py:120: The name tf.gfile.MakeDirs is deprecated. Please use tf.io.gfile.makedirs instead.\n",
      "\n"
     ]
    },
    {
     "name": "stdout",
     "output_type": "stream",
     "text": [
      "WARNING:tensorflow:From c:\\Users\\praga\\Documents\\Projects\\Traffic-Hand-gesture\\venv\\Lib\\site-packages\\tensorflow_hub\\module_v2.py:126: The name tf.saved_model.load_v2 is deprecated. Please use tf.compat.v2.saved_model.load instead.\n",
      "\n"
     ]
    },
    {
     "name": "stderr",
     "output_type": "stream",
     "text": [
      "WARNING:tensorflow:From c:\\Users\\praga\\Documents\\Projects\\Traffic-Hand-gesture\\venv\\Lib\\site-packages\\tensorflow_hub\\module_v2.py:126: The name tf.saved_model.load_v2 is deprecated. Please use tf.compat.v2.saved_model.load instead.\n",
      "\n"
     ]
    }
   ],
   "source": [
    "movenet = hub.load(\"https://tfhub.dev/google/movenet/singlepose/lightning/4\")"
   ]
  },
  {
   "cell_type": "code",
   "execution_count": 3,
   "metadata": {},
   "outputs": [
    {
     "name": "stdout",
     "output_type": "stream",
     "text": [
      "<tensorflow.python.saved_model.load.Loader._recreate_base_user_object.<locals>._UserObject object at 0x000001AB3FD88810>\n"
     ]
    }
   ],
   "source": [
    "print(movenet)"
   ]
  },
  {
   "cell_type": "code",
   "execution_count": null,
   "metadata": {},
   "outputs": [],
   "source": [
    "import cv2\n",
    "import numpy as np\n",
    "import tensorflow as tf\n",
    "\n",
    "def preprocess_image(image_path):\n",
    "\n",
    "    image = cv2.imread(image_path)\n",
    "\n",
    "    image = cv2.cvtColor(image, cv2.COLOR_BGR2RGB)\n",
    "\n",
    "    image = tf.image.resize_with_pad(tf.convert_to_tensor(image), 192, 192)\n",
    "\n",
    "    image = tf.cast(image, dtype=tf.uint8)\n",
    "\n",
    "    return tf.expand_dims(image, axis=0)\n",
    "\n"
   ]
  },
  {
   "cell_type": "code",
   "execution_count": null,
   "metadata": {},
   "outputs": [],
   "source": [
    "\n",
    "def extract_keypoints(image_path):\n",
    "\n",
    "    input_image = preprocess_image(image_path)\n",
    "\n",
    "    outputs = movenet.signatures['serving_default'](input_image)\n",
    "    \n",
    "\n",
    "    keypoints_with_scores = outputs['output_0'].numpy()[0]\n",
    "    return keypoints_with_scores\n"
   ]
  },
  {
   "cell_type": "code",
   "execution_count": 14,
   "metadata": {},
   "outputs": [
    {
     "name": "stdout",
     "output_type": "stream",
     "text": [
      "[[[0.25020307 0.5547818  0.5156442 ]\n",
      "  [0.24018852 0.5704604  0.81824076]\n",
      "  [0.23825799 0.54271674 0.6738923 ]\n",
      "  [0.2545424  0.58431816 0.51085514]\n",
      "  [0.25122362 0.52353024 0.572366  ]\n",
      "  [0.2999314  0.6046803  0.71790105]\n",
      "  [0.3138964  0.48274928 0.8175744 ]\n",
      "  [0.2382044  0.64349425 0.50724065]\n",
      "  [0.3519933  0.4111061  0.7475398 ]\n",
      "  [0.16276333 0.6450962  0.7645221 ]\n",
      "  [0.38340908 0.31396568 0.78853285]\n",
      "  [0.52587146 0.5872636  0.8392743 ]\n",
      "  [0.5297412  0.51549375 0.8972923 ]\n",
      "  [0.6603981  0.599906   0.90864897]\n",
      "  [0.65391344 0.5154544  0.9200018 ]\n",
      "  [0.77531135 0.6031971  0.8162842 ]\n",
      "  [0.7684161  0.51848805 0.8861075 ]]]\n"
     ]
    }
   ],
   "source": [
    "def preprocess_image(image_path):\n",
    "\n",
    "    image = cv2.imread(image_path)\n",
    "\n",
    "    image = cv2.cvtColor(image, cv2.COLOR_BGR2RGB)\n",
    "\n",
    "    image = tf.image.resize_with_pad(tf.convert_to_tensor(image), 192, 192)\n",
    "\n",
    "    image = tf.cast(image, dtype=tf.int32)\n",
    "\n",
    "    return tf.expand_dims(image, axis=0)\n",
    "\n",
    "# Extract keypoints\n",
    "def extract_keypoints(image_path):\n",
    "    input_image = preprocess_image(image_path)\n",
    "    outputs = movenet.signatures['serving_default'](input_image)\n",
    "    keypoints_with_scores = outputs['output_0'].numpy()[0]\n",
    "    return keypoints_with_scores\n",
    "\n",
    "# Test the function\n",
    "keypoints = extract_keypoints(\"Dataset/Pose7/image6517.jpg\")\n",
    "print(keypoints)"
   ]
  },
  {
   "cell_type": "code",
   "execution_count": 18,
   "metadata": {},
   "outputs": [],
   "source": [
    "from tqdm import tqdm"
   ]
  },
  {
   "cell_type": "code",
   "execution_count": 22,
   "metadata": {},
   "outputs": [
    {
     "name": "stdout",
     "output_type": "stream",
     "text": [
      "Gathering dataset information...\n"
     ]
    },
    {
     "name": "stderr",
     "output_type": "stream",
     "text": [
      "Labels: 100%|██████████| 8/8 [00:00<00:00, 168.57it/s]\n"
     ]
    },
    {
     "name": "stdout",
     "output_type": "stream",
     "text": [
      "Splitting dataset into train, validation, and test...\n",
      "Processing train data...\n"
     ]
    },
    {
     "name": "stderr",
     "output_type": "stream",
     "text": [
      "train: 100%|██████████| 6126/6126 [10:10<00:00, 10.03it/s]\n"
     ]
    },
    {
     "name": "stdout",
     "output_type": "stream",
     "text": [
      "Processing val data...\n"
     ]
    },
    {
     "name": "stderr",
     "output_type": "stream",
     "text": [
      "val: 100%|██████████| 766/766 [01:23<00:00,  9.19it/s]\n"
     ]
    },
    {
     "name": "stdout",
     "output_type": "stream",
     "text": [
      "Processing test data...\n"
     ]
    },
    {
     "name": "stderr",
     "output_type": "stream",
     "text": [
      "test: 100%|██████████| 766/766 [01:21<00:00,  9.43it/s]\n"
     ]
    },
    {
     "name": "stdout",
     "output_type": "stream",
     "text": [
      "Dataset preprocessing complete. Annotations saved in 'Output_Image/annotations_with_keypoints.csv'.\n",
      "Train data saved in 'Output_Image/train_data.csv', validation data saved in 'Output_Image/val_data.csv', and test data saved in 'Output_Image/test_data.csv'.\n"
     ]
    }
   ],
   "source": [
    "import os\n",
    "import cv2\n",
    "import tensorflow as tf\n",
    "import pandas as pd\n",
    "from tqdm import tqdm\n",
    "from sklearn.model_selection import train_test_split\n",
    "\n",
    "DATASET_PATH = \"Dataset\"  # Replace with your dataset folder path\n",
    "OUTPUT_PATH = \"Output_Image\"  # Folder to save preprocessed images and keypoints\n",
    "\n",
    "# Create output folders\n",
    "os.makedirs(OUTPUT_PATH, exist_ok=True)\n",
    "os.makedirs(f\"{OUTPUT_PATH}/train\", exist_ok=True)\n",
    "os.makedirs(f\"{OUTPUT_PATH}/val\", exist_ok=True)\n",
    "os.makedirs(f\"{OUTPUT_PATH}/test\", exist_ok=True)\n",
    "\n",
    "# Function to normalize keypoints\n",
    "def normalize_keypoints(keypoints, img_width, img_height):\n",
    "    \"\"\"Normalize keypoints to make them invariant to scale and translation.\"\"\"\n",
    "    # Center keypoints around the hips\n",
    "    hips_center = (keypoints[11, :2] + keypoints[12, :2]) / 2  # LEFT_HIP and RIGHT_HIP\n",
    "    keypoints[:, :2] -= hips_center  # Translate to center\n",
    "\n",
    "    # Scale keypoints by the maximum distance from the hips center\n",
    "    max_dist = max(1e-6, np.max(np.linalg.norm(keypoints[:, :2], axis=1)))\n",
    "    keypoints[:, :2] /= max_dist  # Normalize by distance\n",
    "\n",
    "    # Normalize keypoints based on image dimensions\n",
    "    keypoints[:, 0] /= img_width  # x-coordinate\n",
    "    keypoints[:, 1] /= img_height  # y-coordinate\n",
    "\n",
    "    return keypoints\n",
    "\n",
    "# Function to preprocess images and extract keypoints\n",
    "def preprocess_and_extract_keypoints(image_path, save_dir):\n",
    "    # Load the image\n",
    "    image = cv2.imread(image_path)\n",
    "    img_height, img_width, _ = image.shape\n",
    "    # Convert BGR to RGB\n",
    "    image = cv2.cvtColor(image, cv2.COLOR_BGR2RGB)\n",
    "    # Resize and pad to 192x192\n",
    "    resized_image = tf.image.resize_with_pad(tf.convert_to_tensor(image), 192, 192)\n",
    "    # Convert to int32\n",
    "    input_image = tf.cast(resized_image, dtype=tf.int32)\n",
    "    # Add batch dimension\n",
    "    input_image = tf.expand_dims(input_image, axis=0)\n",
    "    \n",
    "    # Perform inference with MoveNet\n",
    "    outputs = movenet.signatures['serving_default'](input_image)\n",
    "    keypoints_with_scores = outputs['output_0'].numpy()  # Shape: (1, 17, 3)\n",
    "\n",
    "    # Remove the batch dimension\n",
    "    keypoints_with_scores = keypoints_with_scores.squeeze()  # Shape: (17, 3)\n",
    "\n",
    "    # Validate keypoints shape\n",
    "    if keypoints_with_scores.shape != (17, 3):\n",
    "        raise ValueError(f\"Unexpected keypoints shape: {keypoints_with_scores.shape} for {image_path}\")\n",
    "\n",
    "    # Normalize keypoints\n",
    "    normalized_keypoints = normalize_keypoints(keypoints_with_scores[:, :3], img_width, img_height)\n",
    "    \n",
    "    # Save preprocessed image\n",
    "    preprocessed_image = tf.cast(resized_image, dtype=tf.uint8).numpy()\n",
    "    image_name = os.path.basename(image_path)\n",
    "    save_path = os.path.join(save_dir, image_name)\n",
    "    cv2.imwrite(save_path, cv2.cvtColor(preprocessed_image, cv2.COLOR_RGB2BGR))\n",
    "    \n",
    "    return save_path, keypoints_with_scores, normalized_keypoints\n",
    "\n",
    "# Gather all images and their labels\n",
    "image_paths = []\n",
    "labels = []\n",
    "\n",
    "print(\"Gathering dataset information...\")\n",
    "for label in tqdm(os.listdir(DATASET_PATH), desc=\"Labels\"):\n",
    "    label_dir = os.path.join(DATASET_PATH, label)\n",
    "    if os.path.isdir(label_dir):\n",
    "        for image_name in os.listdir(label_dir):\n",
    "            image_path = os.path.join(label_dir, image_name)\n",
    "            if image_name.lower().endswith(('.png', '.jpg', '.jpeg')):\n",
    "                image_paths.append(image_path)\n",
    "                labels.append(label)\n",
    "\n",
    "# Split dataset into train, validation, and test\n",
    "print(\"Splitting dataset into train, validation, and test...\")\n",
    "train_paths, test_paths, train_labels, test_labels = train_test_split(\n",
    "    image_paths, labels, test_size=0.2, random_state=42, stratify=labels\n",
    ")\n",
    "val_paths, test_paths, val_labels, test_labels = train_test_split(\n",
    "    test_paths, test_labels, test_size=0.5, random_state=42, stratify=test_labels\n",
    ")\n",
    "\n",
    "# Preprocess images, extract keypoints, and record annotations\n",
    "def process_and_record(data_paths, data_labels, split_name):\n",
    "    records = []\n",
    "    print(f\"Processing {split_name} data...\")\n",
    "    for img_path, label in tqdm(zip(data_paths, data_labels), total=len(data_paths), desc=split_name):\n",
    "        save_dir = os.path.join(OUTPUT_PATH, split_name)\n",
    "        save_path, keypoints, normalized_keypoints = preprocess_and_extract_keypoints(img_path, save_dir)\n",
    "        records.append({\n",
    "            \"ImageName\": os.path.basename(save_path),\n",
    "            \"Label\": label,\n",
    "            \"PreprocessedPath\": save_path,\n",
    "            \"Keypoints\": keypoints.flatten().tolist(),  # Flatten raw keypoints\n",
    "            \"NormalizedKeypoints\": normalized_keypoints.flatten().tolist()  # Flatten normalized keypoints\n",
    "        })\n",
    "    return records\n",
    "\n",
    "# Process and record for each split\n",
    "train_records = process_and_record(train_paths, train_labels, \"train\")\n",
    "val_records = process_and_record(val_paths, val_labels, \"val\")\n",
    "test_records = process_and_record(test_paths, test_labels, \"test\")\n",
    "\n",
    "# Combine all records into a single DataFrame\n",
    "all_records = train_records + val_records + test_records\n",
    "df = pd.DataFrame(all_records)\n",
    "\n",
    "# Save annotations to a CSV file\n",
    "csv_file = f\"{OUTPUT_PATH}/annotations_with_keypoints.csv\"\n",
    "df.to_csv(csv_file, index=False)\n",
    "\n",
    "# Save the processed data for later use\n",
    "train_file = f\"{OUTPUT_PATH}/train_data.csv\"\n",
    "val_file = f\"{OUTPUT_PATH}/val_data.csv\"\n",
    "test_file = f\"{OUTPUT_PATH}/test_data.csv\"\n",
    "pd.DataFrame(train_records).to_csv(train_file, index=False)\n",
    "pd.DataFrame(val_records).to_csv(val_file, index=False)\n",
    "pd.DataFrame(test_records).to_csv(test_file, index=False)\n",
    "\n",
    "print(f\"Dataset preprocessing complete. Annotations saved in '{csv_file}'.\")\n",
    "print(f\"Train data saved in '{train_file}', validation data saved in '{val_file}', and test data saved in '{test_file}'.\")\n"
   ]
  },
  {
   "cell_type": "code",
   "execution_count": 20,
   "metadata": {},
   "outputs": [
    {
     "name": "stdout",
     "output_type": "stream",
     "text": [
      "Gathering dataset information...\n"
     ]
    },
    {
     "name": "stderr",
     "output_type": "stream",
     "text": [
      "Labels: 100%|██████████| 8/8 [00:00<00:00, 266.23it/s]\n"
     ]
    },
    {
     "name": "stdout",
     "output_type": "stream",
     "text": [
      "Splitting dataset into train, validation, and test...\n",
      "Processing train data...\n"
     ]
    },
    {
     "name": "stderr",
     "output_type": "stream",
     "text": [
      "train: 100%|██████████| 6126/6126 [10:19<00:00,  9.89it/s]\n"
     ]
    },
    {
     "name": "stdout",
     "output_type": "stream",
     "text": [
      "Processing val data...\n"
     ]
    },
    {
     "name": "stderr",
     "output_type": "stream",
     "text": [
      "val: 100%|██████████| 766/766 [01:55<00:00,  6.65it/s]\n"
     ]
    },
    {
     "name": "stdout",
     "output_type": "stream",
     "text": [
      "Processing test data...\n"
     ]
    },
    {
     "name": "stderr",
     "output_type": "stream",
     "text": [
      "test: 100%|██████████| 766/766 [01:58<00:00,  6.47it/s]\n"
     ]
    },
    {
     "name": "stdout",
     "output_type": "stream",
     "text": [
      "Dataset preprocessing complete. Annotations saved in 'Output_Image/annotations_with_keypoints.csv'.\n"
     ]
    }
   ],
   "source": [
    "DATASET_PATH = \"Dataset\"  # Replace with your dataset folder path\n",
    "OUTPUT_PATH = \"Output_Image\"  # Folder to save preprocessed images and keypoints\n",
    "\n",
    "\n",
    "# Create output folders\n",
    "os.makedirs(OUTPUT_PATH, exist_ok=True)\n",
    "os.makedirs(f\"{OUTPUT_PATH}/train\", exist_ok=True)\n",
    "os.makedirs(f\"{OUTPUT_PATH}/val\", exist_ok=True)\n",
    "os.makedirs(f\"{OUTPUT_PATH}/test\", exist_ok=True)\n",
    "\n",
    "# Function to preprocess images and extract keypoints\n",
    "def preprocess_and_extract_keypoints(image_path, save_dir):\n",
    "    # Load the image\n",
    "    image = cv2.imread(image_path)\n",
    "    # Convert BGR to RGB\n",
    "    image = cv2.cvtColor(image, cv2.COLOR_BGR2RGB)\n",
    "    # Resize and pad to 192x192\n",
    "    resized_image = tf.image.resize_with_pad(tf.convert_to_tensor(image), 192, 192)\n",
    "    # Convert to int32\n",
    "    input_image = tf.cast(resized_image, dtype=tf.int32)\n",
    "    # Add batch dimension\n",
    "    input_image = tf.expand_dims(input_image, axis=0)\n",
    "    \n",
    "    # Perform inference with MoveNet\n",
    "    outputs = movenet.signatures['serving_default'](input_image)\n",
    "    keypoints_with_scores = outputs['output_0'].numpy()[0]\n",
    "    \n",
    "    # Save preprocessed image\n",
    "    preprocessed_image = tf.cast(resized_image, dtype=tf.uint8).numpy()\n",
    "    image_name = os.path.basename(image_path)\n",
    "    save_path = os.path.join(save_dir, image_name)\n",
    "    cv2.imwrite(save_path, cv2.cvtColor(preprocessed_image, cv2.COLOR_RGB2BGR))\n",
    "    \n",
    "    return save_path, keypoints_with_scores\n",
    "\n",
    "# Gather all images and their labels\n",
    "image_paths = []\n",
    "labels = []\n",
    "\n",
    "print(\"Gathering dataset information...\")\n",
    "for label in tqdm(os.listdir(DATASET_PATH), desc=\"Labels\"):\n",
    "    label_dir = os.path.join(DATASET_PATH, label)\n",
    "    if os.path.isdir(label_dir):\n",
    "        for image_name in os.listdir(label_dir):\n",
    "            image_path = os.path.join(label_dir, image_name)\n",
    "            if image_name.lower().endswith(('.png', '.jpg', '.jpeg')):\n",
    "                image_paths.append(image_path)\n",
    "                labels.append(label)\n",
    "\n",
    "# Split dataset into train, validation, and test\n",
    "print(\"Splitting dataset into train, validation, and test...\")\n",
    "train_paths, test_paths, train_labels, test_labels = train_test_split(\n",
    "    image_paths, labels, test_size=0.2, random_state=42, stratify=labels\n",
    ")\n",
    "val_paths, test_paths, val_labels, test_labels = train_test_split(\n",
    "    test_paths, test_labels, test_size=0.5, random_state=42, stratify=test_labels\n",
    ")\n",
    "\n",
    "# Preprocess images, extract keypoints, and record annotations\n",
    "def process_and_record(data_paths, data_labels, split_name):\n",
    "    records = []\n",
    "    print(f\"Processing {split_name} data...\")\n",
    "    for img_path, label in tqdm(zip(data_paths, data_labels), total=len(data_paths), desc=split_name):\n",
    "        save_dir = os.path.join(OUTPUT_PATH, split_name)\n",
    "        save_path, keypoints = preprocess_and_extract_keypoints(img_path, save_dir)\n",
    "        records.append({\n",
    "            \"ImageName\": os.path.basename(save_path),\n",
    "            \"Label\": label,\n",
    "            \"PreprocessedPath\": save_path,\n",
    "            \"Keypoints\": keypoints.flatten().tolist()  # Flatten keypoints into a single list\n",
    "        })\n",
    "    return records\n",
    "\n",
    "# Process and record for each split\n",
    "train_records = process_and_record(train_paths, train_labels, \"train\")\n",
    "val_records = process_and_record(val_paths, val_labels, \"val\")\n",
    "test_records = process_and_record(test_paths, test_labels, \"test\")\n",
    "\n",
    "# Combine all records into a single DataFrame\n",
    "all_records = train_records + val_records + test_records\n",
    "df = pd.DataFrame(all_records)\n",
    "\n",
    "# Save annotations to a CSV file\n",
    "csv_file = f\"{OUTPUT_PATH}/annotations_with_keypoints.csv\"\n",
    "df.to_csv(csv_file, index=False)\n",
    "print(f\"Dataset preprocessing complete. Annotations saved in '{csv_file}'.\")"
   ]
  },
  {
   "cell_type": "code",
   "execution_count": 7,
   "metadata": {},
   "outputs": [],
   "source": [
    "import pandas as pd\n",
    "import numpy as np\n",
    "\n",
    "# Load the CSV file\n",
    "df = pd.read_csv(\"Output_Image/annotations_with_keypoints.csv\")\n",
    "\n",
    "# Extract keypoints and labels\n",
    "keypoints = df[\"Keypoints\"].apply(eval).values  # Convert string representation to list\n",
    "keypoints = np.array([np.array(kp) for kp in keypoints])  # Convert to NumPy array\n",
    "\n",
    "labels = df[\"Label\"].values  # Extract labels\n"
   ]
  },
  {
   "cell_type": "code",
   "execution_count": 17,
   "metadata": {},
   "outputs": [],
   "source": [
    "def normalize_keypoints(keypoints, img_width, img_height):\n",
    "    \"\"\"Normalize keypoints to make them translation and scale invariant.\"\"\"\n",
    "    # Center keypoints around the hips\n",
    "    hips_center = (keypoints[11, :2] + keypoints[12, :2]) / 2  # LEFT_HIP, RIGHT_HIP\n",
    "    keypoints[:, :2] -= hips_center  # Translate to center\n",
    "\n",
    "    # Scale by the maximum distance from hips center\n",
    "    max_dist = np.max(np.linalg.norm(keypoints[:, :2], axis=1))\n",
    "    if max_dist > 0:\n",
    "        keypoints[:, :2] /= max_dist  # Normalize by distance\n",
    "\n",
    "    # Normalize by image dimensions for consistency\n",
    "    keypoints[:, 0] /= img_width  # x-coordinate\n",
    "    keypoints[:, 1] /= img_height  # y-coordinate\n",
    "\n",
    "    return keypoints\n",
    "\n"
   ]
  },
  {
   "cell_type": "code",
   "execution_count": null,
   "metadata": {},
   "outputs": [],
   "source": []
  },
  {
   "cell_type": "code",
   "execution_count": 8,
   "metadata": {},
   "outputs": [
    {
     "data": {
      "text/plain": [
       "array([[0.32844234, 0.52539092, 0.60790664, ..., 0.839863  , 0.48242074,\n",
       "        0.77893972],\n",
       "       [0.32354698, 0.54312646, 0.39887315, ..., 0.65979719, 0.4907887 ,\n",
       "        0.44088802],\n",
       "       [0.34544894, 0.57157302, 0.78444451, ..., 0.98682112, 0.56880468,\n",
       "        0.73097682],\n",
       "       ...,\n",
       "       [0.2439184 , 0.50176787, 0.63603878, ..., 0.81869018, 0.44442385,\n",
       "        0.77282536],\n",
       "       [0.31820512, 0.49216613, 0.78220719, ..., 0.96007848, 0.4277364 ,\n",
       "        0.85164016],\n",
       "       [0.42743444, 0.4626939 , 0.5809378 , ..., 0.96629739, 0.40194151,\n",
       "        0.55373394]])"
      ]
     },
     "execution_count": 8,
     "metadata": {},
     "output_type": "execute_result"
    }
   ],
   "source": [
    "keypoints"
   ]
  },
  {
   "cell_type": "code",
   "execution_count": 23,
   "metadata": {},
   "outputs": [],
   "source": [
    "import pandas as pd\n",
    "import numpy as np\n",
    "from sklearn.model_selection import train_test_split\n",
    "from sklearn.preprocessing import LabelEncoder\n",
    "import tensorflow as tf\n",
    "from tensorflow.keras import layers, models, regularizers\n",
    "\n",
    "# Set random seed for reproducibility\n",
    "np.random.seed(42)\n",
    "tf.random.set_seed(42)\n",
    "\n"
   ]
  },
  {
   "cell_type": "code",
   "execution_count": 24,
   "metadata": {},
   "outputs": [],
   "source": [
    "# Load normalized keypoints and labels from CSV\n",
    "train_data = pd.read_csv(\"Output_Image/train_data.csv\")\n",
    "val_data = pd.read_csv(\"Output_Image/val_data.csv\")\n",
    "test_data = pd.read_csv(\"Output_Image/test_data.csv\")\n",
    "\n",
    "# Extract features (normalized keypoints) and labels\n",
    "def extract_features_and_labels(data):\n",
    "    X = np.array(data[\"NormalizedKeypoints\"].apply(eval).tolist())  # Convert string to list\n",
    "    y = np.array(data[\"Label\"])  # Labels\n",
    "    return X, y\n",
    "\n",
    "X_train, y_train = extract_features_and_labels(train_data)\n",
    "X_val, y_val = extract_features_and_labels(val_data)\n",
    "X_test, y_test = extract_features_and_labels(test_data)\n"
   ]
  },
  {
   "cell_type": "code",
   "execution_count": 25,
   "metadata": {},
   "outputs": [],
   "source": [
    "# Encode class labels as integers\n",
    "label_encoder = LabelEncoder()\n",
    "y_train = label_encoder.fit_transform(y_train)\n",
    "y_val = label_encoder.transform(y_val)\n",
    "y_test = label_encoder.transform(y_test)\n",
    "\n",
    "# Get the number of classes\n",
    "num_classes = len(label_encoder.classes_)\n"
   ]
  },
  {
   "cell_type": "code",
   "execution_count": 32,
   "metadata": {},
   "outputs": [
    {
     "data": {
      "text/html": [
       "<pre style=\"white-space:pre;overflow-x:auto;line-height:normal;font-family:Menlo,'DejaVu Sans Mono',consolas,'Courier New',monospace\"><span style=\"font-weight: bold\">Model: \"functional_3\"</span>\n",
       "</pre>\n"
      ],
      "text/plain": [
       "\u001b[1mModel: \"functional_3\"\u001b[0m\n"
      ]
     },
     "metadata": {},
     "output_type": "display_data"
    },
    {
     "data": {
      "text/html": [
       "<pre style=\"white-space:pre;overflow-x:auto;line-height:normal;font-family:Menlo,'DejaVu Sans Mono',consolas,'Courier New',monospace\">┏━━━━━━━━━━━━━━━━━━━━━━━━━━━━━━━━━┳━━━━━━━━━━━━━━━━━━━━━━━━┳━━━━━━━━━━━━━━━┓\n",
       "┃<span style=\"font-weight: bold\"> Layer (type)                    </span>┃<span style=\"font-weight: bold\"> Output Shape           </span>┃<span style=\"font-weight: bold\">       Param # </span>┃\n",
       "┡━━━━━━━━━━━━━━━━━━━━━━━━━━━━━━━━━╇━━━━━━━━━━━━━━━━━━━━━━━━╇━━━━━━━━━━━━━━━┩\n",
       "│ input_layer_5 (<span style=\"color: #0087ff; text-decoration-color: #0087ff\">InputLayer</span>)      │ (<span style=\"color: #00d7ff; text-decoration-color: #00d7ff\">None</span>, <span style=\"color: #00af00; text-decoration-color: #00af00\">51</span>)             │             <span style=\"color: #00af00; text-decoration-color: #00af00\">0</span> │\n",
       "├─────────────────────────────────┼────────────────────────┼───────────────┤\n",
       "│ reshape_3 (<span style=\"color: #0087ff; text-decoration-color: #0087ff\">Reshape</span>)             │ (<span style=\"color: #00d7ff; text-decoration-color: #00d7ff\">None</span>, <span style=\"color: #00af00; text-decoration-color: #00af00\">17</span>, <span style=\"color: #00af00; text-decoration-color: #00af00\">3</span>)          │             <span style=\"color: #00af00; text-decoration-color: #00af00\">0</span> │\n",
       "├─────────────────────────────────┼────────────────────────┼───────────────┤\n",
       "│ flatten_1 (<span style=\"color: #0087ff; text-decoration-color: #0087ff\">Flatten</span>)             │ (<span style=\"color: #00d7ff; text-decoration-color: #00d7ff\">None</span>, <span style=\"color: #00af00; text-decoration-color: #00af00\">51</span>)             │             <span style=\"color: #00af00; text-decoration-color: #00af00\">0</span> │\n",
       "├─────────────────────────────────┼────────────────────────┼───────────────┤\n",
       "│ dense_9 (<span style=\"color: #0087ff; text-decoration-color: #0087ff\">Dense</span>)                 │ (<span style=\"color: #00d7ff; text-decoration-color: #00d7ff\">None</span>, <span style=\"color: #00af00; text-decoration-color: #00af00\">128</span>)            │         <span style=\"color: #00af00; text-decoration-color: #00af00\">6,656</span> │\n",
       "├─────────────────────────────────┼────────────────────────┼───────────────┤\n",
       "│ dropout_6 (<span style=\"color: #0087ff; text-decoration-color: #0087ff\">Dropout</span>)             │ (<span style=\"color: #00d7ff; text-decoration-color: #00d7ff\">None</span>, <span style=\"color: #00af00; text-decoration-color: #00af00\">128</span>)            │             <span style=\"color: #00af00; text-decoration-color: #00af00\">0</span> │\n",
       "├─────────────────────────────────┼────────────────────────┼───────────────┤\n",
       "│ dense_10 (<span style=\"color: #0087ff; text-decoration-color: #0087ff\">Dense</span>)                │ (<span style=\"color: #00d7ff; text-decoration-color: #00d7ff\">None</span>, <span style=\"color: #00af00; text-decoration-color: #00af00\">64</span>)             │         <span style=\"color: #00af00; text-decoration-color: #00af00\">8,256</span> │\n",
       "├─────────────────────────────────┼────────────────────────┼───────────────┤\n",
       "│ dropout_7 (<span style=\"color: #0087ff; text-decoration-color: #0087ff\">Dropout</span>)             │ (<span style=\"color: #00d7ff; text-decoration-color: #00d7ff\">None</span>, <span style=\"color: #00af00; text-decoration-color: #00af00\">64</span>)             │             <span style=\"color: #00af00; text-decoration-color: #00af00\">0</span> │\n",
       "├─────────────────────────────────┼────────────────────────┼───────────────┤\n",
       "│ dense_11 (<span style=\"color: #0087ff; text-decoration-color: #0087ff\">Dense</span>)                │ (<span style=\"color: #00d7ff; text-decoration-color: #00d7ff\">None</span>, <span style=\"color: #00af00; text-decoration-color: #00af00\">8</span>)              │           <span style=\"color: #00af00; text-decoration-color: #00af00\">520</span> │\n",
       "└─────────────────────────────────┴────────────────────────┴───────────────┘\n",
       "</pre>\n"
      ],
      "text/plain": [
       "┏━━━━━━━━━━━━━━━━━━━━━━━━━━━━━━━━━┳━━━━━━━━━━━━━━━━━━━━━━━━┳━━━━━━━━━━━━━━━┓\n",
       "┃\u001b[1m \u001b[0m\u001b[1mLayer (type)                   \u001b[0m\u001b[1m \u001b[0m┃\u001b[1m \u001b[0m\u001b[1mOutput Shape          \u001b[0m\u001b[1m \u001b[0m┃\u001b[1m \u001b[0m\u001b[1m      Param #\u001b[0m\u001b[1m \u001b[0m┃\n",
       "┡━━━━━━━━━━━━━━━━━━━━━━━━━━━━━━━━━╇━━━━━━━━━━━━━━━━━━━━━━━━╇━━━━━━━━━━━━━━━┩\n",
       "│ input_layer_5 (\u001b[38;5;33mInputLayer\u001b[0m)      │ (\u001b[38;5;45mNone\u001b[0m, \u001b[38;5;34m51\u001b[0m)             │             \u001b[38;5;34m0\u001b[0m │\n",
       "├─────────────────────────────────┼────────────────────────┼───────────────┤\n",
       "│ reshape_3 (\u001b[38;5;33mReshape\u001b[0m)             │ (\u001b[38;5;45mNone\u001b[0m, \u001b[38;5;34m17\u001b[0m, \u001b[38;5;34m3\u001b[0m)          │             \u001b[38;5;34m0\u001b[0m │\n",
       "├─────────────────────────────────┼────────────────────────┼───────────────┤\n",
       "│ flatten_1 (\u001b[38;5;33mFlatten\u001b[0m)             │ (\u001b[38;5;45mNone\u001b[0m, \u001b[38;5;34m51\u001b[0m)             │             \u001b[38;5;34m0\u001b[0m │\n",
       "├─────────────────────────────────┼────────────────────────┼───────────────┤\n",
       "│ dense_9 (\u001b[38;5;33mDense\u001b[0m)                 │ (\u001b[38;5;45mNone\u001b[0m, \u001b[38;5;34m128\u001b[0m)            │         \u001b[38;5;34m6,656\u001b[0m │\n",
       "├─────────────────────────────────┼────────────────────────┼───────────────┤\n",
       "│ dropout_6 (\u001b[38;5;33mDropout\u001b[0m)             │ (\u001b[38;5;45mNone\u001b[0m, \u001b[38;5;34m128\u001b[0m)            │             \u001b[38;5;34m0\u001b[0m │\n",
       "├─────────────────────────────────┼────────────────────────┼───────────────┤\n",
       "│ dense_10 (\u001b[38;5;33mDense\u001b[0m)                │ (\u001b[38;5;45mNone\u001b[0m, \u001b[38;5;34m64\u001b[0m)             │         \u001b[38;5;34m8,256\u001b[0m │\n",
       "├─────────────────────────────────┼────────────────────────┼───────────────┤\n",
       "│ dropout_7 (\u001b[38;5;33mDropout\u001b[0m)             │ (\u001b[38;5;45mNone\u001b[0m, \u001b[38;5;34m64\u001b[0m)             │             \u001b[38;5;34m0\u001b[0m │\n",
       "├─────────────────────────────────┼────────────────────────┼───────────────┤\n",
       "│ dense_11 (\u001b[38;5;33mDense\u001b[0m)                │ (\u001b[38;5;45mNone\u001b[0m, \u001b[38;5;34m8\u001b[0m)              │           \u001b[38;5;34m520\u001b[0m │\n",
       "└─────────────────────────────────┴────────────────────────┴───────────────┘\n"
      ]
     },
     "metadata": {},
     "output_type": "display_data"
    },
    {
     "data": {
      "text/html": [
       "<pre style=\"white-space:pre;overflow-x:auto;line-height:normal;font-family:Menlo,'DejaVu Sans Mono',consolas,'Courier New',monospace\"><span style=\"font-weight: bold\"> Total params: </span><span style=\"color: #00af00; text-decoration-color: #00af00\">15,432</span> (60.28 KB)\n",
       "</pre>\n"
      ],
      "text/plain": [
       "\u001b[1m Total params: \u001b[0m\u001b[38;5;34m15,432\u001b[0m (60.28 KB)\n"
      ]
     },
     "metadata": {},
     "output_type": "display_data"
    },
    {
     "data": {
      "text/html": [
       "<pre style=\"white-space:pre;overflow-x:auto;line-height:normal;font-family:Menlo,'DejaVu Sans Mono',consolas,'Courier New',monospace\"><span style=\"font-weight: bold\"> Trainable params: </span><span style=\"color: #00af00; text-decoration-color: #00af00\">15,432</span> (60.28 KB)\n",
       "</pre>\n"
      ],
      "text/plain": [
       "\u001b[1m Trainable params: \u001b[0m\u001b[38;5;34m15,432\u001b[0m (60.28 KB)\n"
      ]
     },
     "metadata": {},
     "output_type": "display_data"
    },
    {
     "data": {
      "text/html": [
       "<pre style=\"white-space:pre;overflow-x:auto;line-height:normal;font-family:Menlo,'DejaVu Sans Mono',consolas,'Courier New',monospace\"><span style=\"font-weight: bold\"> Non-trainable params: </span><span style=\"color: #00af00; text-decoration-color: #00af00\">0</span> (0.00 B)\n",
       "</pre>\n"
      ],
      "text/plain": [
       "\u001b[1m Non-trainable params: \u001b[0m\u001b[38;5;34m0\u001b[0m (0.00 B)\n"
      ]
     },
     "metadata": {},
     "output_type": "display_data"
    }
   ],
   "source": [
    "from tensorflow import keras\n",
    "\n",
    "# Function to convert normalized keypoints into embeddings\n",
    "def landmarks_to_embedding(inputs):\n",
    "    \"\"\"Embed the keypoints (landmarks) into a feature vector.\"\"\"\n",
    "    reshaped_inputs = keras.layers.Reshape((17, 3))(inputs)  # Assuming 18 keypoints, 3 values each (x, y, score)\n",
    "    flattened = keras.layers.Flatten()(reshaped_inputs)\n",
    "    return flattened\n",
    "\n",
    "# Define the model using the provided structure\n",
    "def build_embedding_model(input_shape, num_classes):\n",
    "    inputs = tf.keras.Input(shape=input_shape)  # Update shape to 51\n",
    "    embedding = landmarks_to_embedding(inputs)\n",
    "\n",
    "    layer = keras.layers.Dense(128, activation=tf.nn.relu6)(embedding)\n",
    "    layer = keras.layers.Dropout(0.5)(layer)\n",
    "    layer = keras.layers.Dense(64, activation=tf.nn.relu6)(layer)\n",
    "    layer = keras.layers.Dropout(0.5)(layer)\n",
    "    outputs = keras.layers.Dense(num_classes, activation=\"softmax\")(layer)\n",
    "\n",
    "    model = keras.Model(inputs, outputs)\n",
    "    model.compile(\n",
    "        optimizer=\"adam\",\n",
    "        loss=\"sparse_categorical_crossentropy\",\n",
    "        metrics=[\"accuracy\"]\n",
    "    )\n",
    "    return model\n",
    "\n",
    "# Build the model with updated input shape\n",
    "input_shape = (51,)  # 17 keypoints * 3 (x, y, confidence)\n",
    "model = build_embedding_model(input_shape, num_classes=len(label_encoder.classes_))\n",
    "model.summary()\n",
    "\n"
   ]
  },
  {
   "cell_type": "code",
   "execution_count": 34,
   "metadata": {},
   "outputs": [
    {
     "name": "stdout",
     "output_type": "stream",
     "text": [
      "Epoch 1/200\n",
      "\u001b[1m766/766\u001b[0m \u001b[32m━━━━━━━━━━━━━━━━━━━━\u001b[0m\u001b[37m\u001b[0m \u001b[1m1s\u001b[0m 924us/step - accuracy: 0.2850 - loss: 1.8534 - val_accuracy: 0.3029 - val_loss: 1.8239\n",
      "Epoch 2/200\n",
      "\u001b[1m766/766\u001b[0m \u001b[32m━━━━━━━━━━━━━━━━━━━━\u001b[0m\u001b[37m\u001b[0m \u001b[1m1s\u001b[0m 780us/step - accuracy: 0.2795 - loss: 1.8380 - val_accuracy: 0.2859 - val_loss: 1.8243\n",
      "Epoch 3/200\n",
      "\u001b[1m766/766\u001b[0m \u001b[32m━━━━━━━━━━━━━━━━━━━━\u001b[0m\u001b[37m\u001b[0m \u001b[1m1s\u001b[0m 780us/step - accuracy: 0.2771 - loss: 1.8325 - val_accuracy: 0.3159 - val_loss: 1.7952\n",
      "Epoch 4/200\n",
      "\u001b[1m766/766\u001b[0m \u001b[32m━━━━━━━━━━━━━━━━━━━━\u001b[0m\u001b[37m\u001b[0m \u001b[1m1s\u001b[0m 763us/step - accuracy: 0.2895 - loss: 1.8208 - val_accuracy: 0.3133 - val_loss: 1.7923\n",
      "Epoch 5/200\n",
      "\u001b[1m766/766\u001b[0m \u001b[32m━━━━━━━━━━━━━━━━━━━━\u001b[0m\u001b[37m\u001b[0m \u001b[1m1s\u001b[0m 752us/step - accuracy: 0.2805 - loss: 1.8237 - val_accuracy: 0.3107 - val_loss: 1.7930\n",
      "Epoch 6/200\n",
      "\u001b[1m766/766\u001b[0m \u001b[32m━━━━━━━━━━━━━━━━━━━━\u001b[0m\u001b[37m\u001b[0m \u001b[1m1s\u001b[0m 752us/step - accuracy: 0.2824 - loss: 1.8292 - val_accuracy: 0.3146 - val_loss: 1.7970\n",
      "Epoch 7/200\n",
      "\u001b[1m766/766\u001b[0m \u001b[32m━━━━━━━━━━━━━━━━━━━━\u001b[0m\u001b[37m\u001b[0m \u001b[1m1s\u001b[0m 744us/step - accuracy: 0.2806 - loss: 1.8308 - val_accuracy: 0.3055 - val_loss: 1.7978\n",
      "Epoch 8/200\n",
      "\u001b[1m766/766\u001b[0m \u001b[32m━━━━━━━━━━━━━━━━━━━━\u001b[0m\u001b[37m\u001b[0m \u001b[1m1s\u001b[0m 751us/step - accuracy: 0.2874 - loss: 1.8180 - val_accuracy: 0.3146 - val_loss: 1.7775\n",
      "Epoch 9/200\n",
      "\u001b[1m766/766\u001b[0m \u001b[32m━━━━━━━━━━━━━━━━━━━━\u001b[0m\u001b[37m\u001b[0m \u001b[1m1s\u001b[0m 774us/step - accuracy: 0.2902 - loss: 1.8090 - val_accuracy: 0.3185 - val_loss: 1.7778\n",
      "Epoch 10/200\n",
      "\u001b[1m766/766\u001b[0m \u001b[32m━━━━━━━━━━━━━━━━━━━━\u001b[0m\u001b[37m\u001b[0m \u001b[1m1s\u001b[0m 744us/step - accuracy: 0.2811 - loss: 1.8034 - val_accuracy: 0.3016 - val_loss: 1.7809\n",
      "Epoch 11/200\n",
      "\u001b[1m766/766\u001b[0m \u001b[32m━━━━━━━━━━━━━━━━━━━━\u001b[0m\u001b[37m\u001b[0m \u001b[1m1s\u001b[0m 743us/step - accuracy: 0.2953 - loss: 1.8287 - val_accuracy: 0.3159 - val_loss: 1.7716\n",
      "Epoch 12/200\n",
      "\u001b[1m766/766\u001b[0m \u001b[32m━━━━━━━━━━━━━━━━━━━━\u001b[0m\u001b[37m\u001b[0m \u001b[1m1s\u001b[0m 742us/step - accuracy: 0.2803 - loss: 1.8190 - val_accuracy: 0.3016 - val_loss: 1.7664\n",
      "Epoch 13/200\n",
      "\u001b[1m766/766\u001b[0m \u001b[32m━━━━━━━━━━━━━━━━━━━━\u001b[0m\u001b[37m\u001b[0m \u001b[1m1s\u001b[0m 741us/step - accuracy: 0.2915 - loss: 1.8169 - val_accuracy: 0.3238 - val_loss: 1.7608\n",
      "Epoch 14/200\n",
      "\u001b[1m766/766\u001b[0m \u001b[32m━━━━━━━━━━━━━━━━━━━━\u001b[0m\u001b[37m\u001b[0m \u001b[1m1s\u001b[0m 743us/step - accuracy: 0.2862 - loss: 1.8016 - val_accuracy: 0.3107 - val_loss: 1.7663\n",
      "Epoch 15/200\n",
      "\u001b[1m766/766\u001b[0m \u001b[32m━━━━━━━━━━━━━━━━━━━━\u001b[0m\u001b[37m\u001b[0m \u001b[1m1s\u001b[0m 757us/step - accuracy: 0.2842 - loss: 1.8080 - val_accuracy: 0.2950 - val_loss: 1.7847\n",
      "Epoch 16/200\n",
      "\u001b[1m766/766\u001b[0m \u001b[32m━━━━━━━━━━━━━━━━━━━━\u001b[0m\u001b[37m\u001b[0m \u001b[1m1s\u001b[0m 772us/step - accuracy: 0.2873 - loss: 1.8156 - val_accuracy: 0.3016 - val_loss: 1.7816\n",
      "Epoch 17/200\n",
      "\u001b[1m766/766\u001b[0m \u001b[32m━━━━━━━━━━━━━━━━━━━━\u001b[0m\u001b[37m\u001b[0m \u001b[1m1s\u001b[0m 751us/step - accuracy: 0.2892 - loss: 1.7940 - val_accuracy: 0.3211 - val_loss: 1.7544\n",
      "Epoch 18/200\n",
      "\u001b[1m766/766\u001b[0m \u001b[32m━━━━━━━━━━━━━━━━━━━━\u001b[0m\u001b[37m\u001b[0m \u001b[1m1s\u001b[0m 777us/step - accuracy: 0.3003 - loss: 1.7918 - val_accuracy: 0.3133 - val_loss: 1.7558\n",
      "Epoch 19/200\n",
      "\u001b[1m766/766\u001b[0m \u001b[32m━━━━━━━━━━━━━━━━━━━━\u001b[0m\u001b[37m\u001b[0m \u001b[1m1s\u001b[0m 747us/step - accuracy: 0.2974 - loss: 1.7933 - val_accuracy: 0.3238 - val_loss: 1.7619\n",
      "Epoch 20/200\n",
      "\u001b[1m766/766\u001b[0m \u001b[32m━━━━━━━━━━━━━━━━━━━━\u001b[0m\u001b[37m\u001b[0m \u001b[1m1s\u001b[0m 765us/step - accuracy: 0.2823 - loss: 1.7962 - val_accuracy: 0.3068 - val_loss: 1.7719\n",
      "Epoch 21/200\n",
      "\u001b[1m766/766\u001b[0m \u001b[32m━━━━━━━━━━━━━━━━━━━━\u001b[0m\u001b[37m\u001b[0m \u001b[1m1s\u001b[0m 748us/step - accuracy: 0.3030 - loss: 1.7918 - val_accuracy: 0.3329 - val_loss: 1.7532\n",
      "Epoch 22/200\n",
      "\u001b[1m766/766\u001b[0m \u001b[32m━━━━━━━━━━━━━━━━━━━━\u001b[0m\u001b[37m\u001b[0m \u001b[1m1s\u001b[0m 754us/step - accuracy: 0.2937 - loss: 1.8002 - val_accuracy: 0.3185 - val_loss: 1.7517\n",
      "Epoch 23/200\n",
      "\u001b[1m766/766\u001b[0m \u001b[32m━━━━━━━━━━━━━━━━━━━━\u001b[0m\u001b[37m\u001b[0m \u001b[1m1s\u001b[0m 749us/step - accuracy: 0.2934 - loss: 1.7845 - val_accuracy: 0.3133 - val_loss: 1.7472\n",
      "Epoch 24/200\n",
      "\u001b[1m766/766\u001b[0m \u001b[32m━━━━━━━━━━━━━━━━━━━━\u001b[0m\u001b[37m\u001b[0m \u001b[1m1s\u001b[0m 760us/step - accuracy: 0.2976 - loss: 1.7979 - val_accuracy: 0.3198 - val_loss: 1.7417\n",
      "Epoch 25/200\n",
      "\u001b[1m766/766\u001b[0m \u001b[32m━━━━━━━━━━━━━━━━━━━━\u001b[0m\u001b[37m\u001b[0m \u001b[1m1s\u001b[0m 778us/step - accuracy: 0.3001 - loss: 1.8058 - val_accuracy: 0.3120 - val_loss: 1.7395\n",
      "Epoch 26/200\n",
      "\u001b[1m766/766\u001b[0m \u001b[32m━━━━━━━━━━━━━━━━━━━━\u001b[0m\u001b[37m\u001b[0m \u001b[1m1s\u001b[0m 745us/step - accuracy: 0.2860 - loss: 1.7841 - val_accuracy: 0.3316 - val_loss: 1.7423\n",
      "Epoch 27/200\n",
      "\u001b[1m766/766\u001b[0m \u001b[32m━━━━━━━━━━━━━━━━━━━━\u001b[0m\u001b[37m\u001b[0m \u001b[1m1s\u001b[0m 736us/step - accuracy: 0.2831 - loss: 1.8086 - val_accuracy: 0.3381 - val_loss: 1.7407\n",
      "Epoch 28/200\n",
      "\u001b[1m766/766\u001b[0m \u001b[32m━━━━━━━━━━━━━━━━━━━━\u001b[0m\u001b[37m\u001b[0m \u001b[1m1s\u001b[0m 751us/step - accuracy: 0.3092 - loss: 1.7922 - val_accuracy: 0.3264 - val_loss: 1.7296\n",
      "Epoch 29/200\n",
      "\u001b[1m766/766\u001b[0m \u001b[32m━━━━━━━━━━━━━━━━━━━━\u001b[0m\u001b[37m\u001b[0m \u001b[1m1s\u001b[0m 769us/step - accuracy: 0.3132 - loss: 1.7812 - val_accuracy: 0.3420 - val_loss: 1.7435\n",
      "Epoch 30/200\n",
      "\u001b[1m766/766\u001b[0m \u001b[32m━━━━━━━━━━━━━━━━━━━━\u001b[0m\u001b[37m\u001b[0m \u001b[1m1s\u001b[0m 749us/step - accuracy: 0.3049 - loss: 1.7890 - val_accuracy: 0.3316 - val_loss: 1.7341\n",
      "Epoch 31/200\n",
      "\u001b[1m766/766\u001b[0m \u001b[32m━━━━━━━━━━━━━━━━━━━━\u001b[0m\u001b[37m\u001b[0m \u001b[1m1s\u001b[0m 747us/step - accuracy: 0.3067 - loss: 1.7700 - val_accuracy: 0.3290 - val_loss: 1.7234\n",
      "Epoch 32/200\n",
      "\u001b[1m766/766\u001b[0m \u001b[32m━━━━━━━━━━━━━━━━━━━━\u001b[0m\u001b[37m\u001b[0m \u001b[1m1s\u001b[0m 775us/step - accuracy: 0.3106 - loss: 1.7581 - val_accuracy: 0.3460 - val_loss: 1.7087\n",
      "Epoch 33/200\n",
      "\u001b[1m766/766\u001b[0m \u001b[32m━━━━━━━━━━━━━━━━━━━━\u001b[0m\u001b[37m\u001b[0m \u001b[1m1s\u001b[0m 774us/step - accuracy: 0.2994 - loss: 1.7891 - val_accuracy: 0.3198 - val_loss: 1.7229\n",
      "Epoch 34/200\n",
      "\u001b[1m766/766\u001b[0m \u001b[32m━━━━━━━━━━━━━━━━━━━━\u001b[0m\u001b[37m\u001b[0m \u001b[1m1s\u001b[0m 762us/step - accuracy: 0.3083 - loss: 1.7719 - val_accuracy: 0.3342 - val_loss: 1.7252\n",
      "Epoch 35/200\n",
      "\u001b[1m766/766\u001b[0m \u001b[32m━━━━━━━━━━━━━━━━━━━━\u001b[0m\u001b[37m\u001b[0m \u001b[1m1s\u001b[0m 777us/step - accuracy: 0.2981 - loss: 1.7789 - val_accuracy: 0.3172 - val_loss: 1.7522\n",
      "Epoch 36/200\n",
      "\u001b[1m766/766\u001b[0m \u001b[32m━━━━━━━━━━━━━━━━━━━━\u001b[0m\u001b[37m\u001b[0m \u001b[1m1s\u001b[0m 758us/step - accuracy: 0.3105 - loss: 1.7653 - val_accuracy: 0.3446 - val_loss: 1.7009\n",
      "Epoch 37/200\n",
      "\u001b[1m766/766\u001b[0m \u001b[32m━━━━━━━━━━━━━━━━━━━━\u001b[0m\u001b[37m\u001b[0m \u001b[1m1s\u001b[0m 743us/step - accuracy: 0.3027 - loss: 1.7743 - val_accuracy: 0.3486 - val_loss: 1.7062\n",
      "Epoch 38/200\n",
      "\u001b[1m766/766\u001b[0m \u001b[32m━━━━━━━━━━━━━━━━━━━━\u001b[0m\u001b[37m\u001b[0m \u001b[1m1s\u001b[0m 744us/step - accuracy: 0.3139 - loss: 1.7658 - val_accuracy: 0.3512 - val_loss: 1.7033\n",
      "Epoch 39/200\n",
      "\u001b[1m766/766\u001b[0m \u001b[32m━━━━━━━━━━━━━━━━━━━━\u001b[0m\u001b[37m\u001b[0m \u001b[1m1s\u001b[0m 750us/step - accuracy: 0.3170 - loss: 1.7657 - val_accuracy: 0.3420 - val_loss: 1.7060\n",
      "Epoch 40/200\n",
      "\u001b[1m766/766\u001b[0m \u001b[32m━━━━━━━━━━━━━━━━━━━━\u001b[0m\u001b[37m\u001b[0m \u001b[1m1s\u001b[0m 778us/step - accuracy: 0.3133 - loss: 1.7447 - val_accuracy: 0.3420 - val_loss: 1.7204\n",
      "Epoch 41/200\n",
      "\u001b[1m766/766\u001b[0m \u001b[32m━━━━━━━━━━━━━━━━━━━━\u001b[0m\u001b[37m\u001b[0m \u001b[1m1s\u001b[0m 767us/step - accuracy: 0.3148 - loss: 1.7519 - val_accuracy: 0.3277 - val_loss: 1.7069\n"
     ]
    }
   ],
   "source": [
    "# Train the model\n",
    "history = model.fit(\n",
    "    X_train, y_train,\n",
    "    validation_data=(X_val, y_val),\n",
    "    epochs=200,\n",
    "    batch_size=8,\n",
    "    callbacks=[\n",
    "        tf.keras.callbacks.EarlyStopping(monitor='val_loss', patience=5, restore_best_weights=True)\n",
    "    ]\n",
    ")\n"
   ]
  },
  {
   "cell_type": "code",
   "execution_count": 15,
   "metadata": {},
   "outputs": [
    {
     "name": "stdout",
     "output_type": "stream",
     "text": [
      "Epoch 1/100\n",
      "\u001b[1m154/154\u001b[0m \u001b[32m━━━━━━━━━━━━━━━━━━━━\u001b[0m\u001b[37m\u001b[0m \u001b[1m0s\u001b[0m 1ms/step - accuracy: 0.5067 - loss: 1.3325 - val_accuracy: 0.6142 - val_loss: 1.1272\n",
      "Epoch 2/100\n",
      "\u001b[1m154/154\u001b[0m \u001b[32m━━━━━━━━━━━━━━━━━━━━\u001b[0m\u001b[37m\u001b[0m \u001b[1m0s\u001b[0m 999us/step - accuracy: 0.5139 - loss: 1.2704 - val_accuracy: 0.6134 - val_loss: 1.1079\n",
      "Epoch 3/100\n",
      "\u001b[1m154/154\u001b[0m \u001b[32m━━━━━━━━━━━━━━━━━━━━\u001b[0m\u001b[37m\u001b[0m \u001b[1m0s\u001b[0m 929us/step - accuracy: 0.5391 - loss: 1.2676 - val_accuracy: 0.6052 - val_loss: 1.0812\n",
      "Epoch 4/100\n",
      "\u001b[1m154/154\u001b[0m \u001b[32m━━━━━━━━━━━━━━━━━━━━\u001b[0m\u001b[37m\u001b[0m \u001b[1m0s\u001b[0m 1ms/step - accuracy: 0.5120 - loss: 1.2608 - val_accuracy: 0.6109 - val_loss: 1.0896\n",
      "Epoch 5/100\n",
      "\u001b[1m154/154\u001b[0m \u001b[32m━━━━━━━━━━━━━━━━━━━━\u001b[0m\u001b[37m\u001b[0m \u001b[1m0s\u001b[0m 995us/step - accuracy: 0.5155 - loss: 1.2810 - val_accuracy: 0.6093 - val_loss: 1.0829\n",
      "Epoch 6/100\n",
      "\u001b[1m154/154\u001b[0m \u001b[32m━━━━━━━━━━━━━━━━━━━━\u001b[0m\u001b[37m\u001b[0m \u001b[1m0s\u001b[0m 966us/step - accuracy: 0.5252 - loss: 1.2726 - val_accuracy: 0.6158 - val_loss: 1.0596\n",
      "Epoch 7/100\n",
      "\u001b[1m154/154\u001b[0m \u001b[32m━━━━━━━━━━━━━━━━━━━━\u001b[0m\u001b[37m\u001b[0m \u001b[1m0s\u001b[0m 987us/step - accuracy: 0.5293 - loss: 1.2562 - val_accuracy: 0.6126 - val_loss: 1.0676\n",
      "Epoch 8/100\n",
      "\u001b[1m154/154\u001b[0m \u001b[32m━━━━━━━━━━━━━━━━━━━━\u001b[0m\u001b[37m\u001b[0m \u001b[1m0s\u001b[0m 967us/step - accuracy: 0.5185 - loss: 1.2609 - val_accuracy: 0.6330 - val_loss: 1.0425\n",
      "Epoch 9/100\n",
      "\u001b[1m154/154\u001b[0m \u001b[32m━━━━━━━━━━━━━━━━━━━━\u001b[0m\u001b[37m\u001b[0m \u001b[1m0s\u001b[0m 1ms/step - accuracy: 0.5401 - loss: 1.2297 - val_accuracy: 0.6574 - val_loss: 1.0091\n",
      "Epoch 10/100\n",
      "\u001b[1m154/154\u001b[0m \u001b[32m━━━━━━━━━━━━━━━━━━━━\u001b[0m\u001b[37m\u001b[0m \u001b[1m0s\u001b[0m 1ms/step - accuracy: 0.5283 - loss: 1.2170 - val_accuracy: 0.6191 - val_loss: 1.0639\n",
      "Epoch 11/100\n",
      "\u001b[1m154/154\u001b[0m \u001b[32m━━━━━━━━━━━━━━━━━━━━\u001b[0m\u001b[37m\u001b[0m \u001b[1m0s\u001b[0m 1ms/step - accuracy: 0.5436 - loss: 1.2173 - val_accuracy: 0.5865 - val_loss: 1.0897\n",
      "Epoch 12/100\n",
      "\u001b[1m154/154\u001b[0m \u001b[32m━━━━━━━━━━━━━━━━━━━━\u001b[0m\u001b[37m\u001b[0m \u001b[1m0s\u001b[0m 1ms/step - accuracy: 0.5481 - loss: 1.2044 - val_accuracy: 0.6313 - val_loss: 1.0188\n",
      "Epoch 13/100\n",
      "\u001b[1m154/154\u001b[0m \u001b[32m━━━━━━━━━━━━━━━━━━━━\u001b[0m\u001b[37m\u001b[0m \u001b[1m0s\u001b[0m 956us/step - accuracy: 0.5444 - loss: 1.1825 - val_accuracy: 0.6321 - val_loss: 1.0092\n",
      "Epoch 14/100\n",
      "\u001b[1m154/154\u001b[0m \u001b[32m━━━━━━━━━━━━━━━━━━━━\u001b[0m\u001b[37m\u001b[0m \u001b[1m0s\u001b[0m 985us/step - accuracy: 0.5500 - loss: 1.1887 - val_accuracy: 0.6468 - val_loss: 0.9926\n",
      "Epoch 15/100\n",
      "\u001b[1m154/154\u001b[0m \u001b[32m━━━━━━━━━━━━━━━━━━━━\u001b[0m\u001b[37m\u001b[0m \u001b[1m0s\u001b[0m 1ms/step - accuracy: 0.5474 - loss: 1.1950 - val_accuracy: 0.6436 - val_loss: 0.9867\n",
      "Epoch 16/100\n",
      "\u001b[1m154/154\u001b[0m \u001b[32m━━━━━━━━━━━━━━━━━━━━\u001b[0m\u001b[37m\u001b[0m \u001b[1m0s\u001b[0m 953us/step - accuracy: 0.5545 - loss: 1.1901 - val_accuracy: 0.6623 - val_loss: 0.9592\n",
      "Epoch 17/100\n",
      "\u001b[1m154/154\u001b[0m \u001b[32m━━━━━━━━━━━━━━━━━━━━\u001b[0m\u001b[37m\u001b[0m \u001b[1m0s\u001b[0m 984us/step - accuracy: 0.5517 - loss: 1.1615 - val_accuracy: 0.6485 - val_loss: 0.9578\n",
      "Epoch 18/100\n",
      "\u001b[1m154/154\u001b[0m \u001b[32m━━━━━━━━━━━━━━━━━━━━\u001b[0m\u001b[37m\u001b[0m \u001b[1m0s\u001b[0m 1ms/step - accuracy: 0.5665 - loss: 1.1496 - val_accuracy: 0.6664 - val_loss: 0.9358\n",
      "Epoch 19/100\n",
      "\u001b[1m154/154\u001b[0m \u001b[32m━━━━━━━━━━━━━━━━━━━━\u001b[0m\u001b[37m\u001b[0m \u001b[1m0s\u001b[0m 1ms/step - accuracy: 0.5559 - loss: 1.1428 - val_accuracy: 0.6558 - val_loss: 0.9642\n",
      "Epoch 20/100\n",
      "\u001b[1m154/154\u001b[0m \u001b[32m━━━━━━━━━━━━━━━━━━━━\u001b[0m\u001b[37m\u001b[0m \u001b[1m0s\u001b[0m 1ms/step - accuracy: 0.5735 - loss: 1.1446 - val_accuracy: 0.6672 - val_loss: 0.9397\n",
      "Epoch 21/100\n",
      "\u001b[1m154/154\u001b[0m \u001b[32m━━━━━━━━━━━━━━━━━━━━\u001b[0m\u001b[37m\u001b[0m \u001b[1m0s\u001b[0m 1ms/step - accuracy: 0.5664 - loss: 1.1463 - val_accuracy: 0.6403 - val_loss: 0.9857\n",
      "Epoch 22/100\n",
      "\u001b[1m154/154\u001b[0m \u001b[32m━━━━━━━━━━━━━━━━━━━━\u001b[0m\u001b[37m\u001b[0m \u001b[1m0s\u001b[0m 1ms/step - accuracy: 0.5855 - loss: 1.1126 - val_accuracy: 0.6607 - val_loss: 0.9674\n",
      "Epoch 23/100\n",
      "\u001b[1m154/154\u001b[0m \u001b[32m━━━━━━━━━━━━━━━━━━━━\u001b[0m\u001b[37m\u001b[0m \u001b[1m0s\u001b[0m 1ms/step - accuracy: 0.5798 - loss: 1.1187 - val_accuracy: 0.6803 - val_loss: 0.9120\n",
      "Epoch 24/100\n",
      "\u001b[1m154/154\u001b[0m \u001b[32m━━━━━━━━━━━━━━━━━━━━\u001b[0m\u001b[37m\u001b[0m \u001b[1m0s\u001b[0m 1ms/step - accuracy: 0.5865 - loss: 1.1158 - val_accuracy: 0.6591 - val_loss: 0.9526\n",
      "Epoch 25/100\n",
      "\u001b[1m154/154\u001b[0m \u001b[32m━━━━━━━━━━━━━━━━━━━━\u001b[0m\u001b[37m\u001b[0m \u001b[1m0s\u001b[0m 1ms/step - accuracy: 0.5772 - loss: 1.1245 - val_accuracy: 0.6762 - val_loss: 0.9034\n",
      "Epoch 26/100\n",
      "\u001b[1m154/154\u001b[0m \u001b[32m━━━━━━━━━━━━━━━━━━━━\u001b[0m\u001b[37m\u001b[0m \u001b[1m0s\u001b[0m 1ms/step - accuracy: 0.5959 - loss: 1.0911 - val_accuracy: 0.6631 - val_loss: 0.9269\n",
      "Epoch 27/100\n",
      "\u001b[1m154/154\u001b[0m \u001b[32m━━━━━━━━━━━━━━━━━━━━\u001b[0m\u001b[37m\u001b[0m \u001b[1m0s\u001b[0m 1ms/step - accuracy: 0.5733 - loss: 1.1450 - val_accuracy: 0.6746 - val_loss: 0.9057\n",
      "Epoch 28/100\n",
      "\u001b[1m154/154\u001b[0m \u001b[32m━━━━━━━━━━━━━━━━━━━━\u001b[0m\u001b[37m\u001b[0m \u001b[1m0s\u001b[0m 1ms/step - accuracy: 0.5966 - loss: 1.0932 - val_accuracy: 0.6591 - val_loss: 0.9151\n",
      "Epoch 29/100\n",
      "\u001b[1m154/154\u001b[0m \u001b[32m━━━━━━━━━━━━━━━━━━━━\u001b[0m\u001b[37m\u001b[0m \u001b[1m0s\u001b[0m 1ms/step - accuracy: 0.5654 - loss: 1.1125 - val_accuracy: 0.6819 - val_loss: 0.8894\n",
      "Epoch 30/100\n",
      "\u001b[1m154/154\u001b[0m \u001b[32m━━━━━━━━━━━━━━━━━━━━\u001b[0m\u001b[37m\u001b[0m \u001b[1m0s\u001b[0m 1ms/step - accuracy: 0.5873 - loss: 1.1040 - val_accuracy: 0.6835 - val_loss: 0.8925\n",
      "Epoch 31/100\n",
      "\u001b[1m154/154\u001b[0m \u001b[32m━━━━━━━━━━━━━━━━━━━━\u001b[0m\u001b[37m\u001b[0m \u001b[1m0s\u001b[0m 1ms/step - accuracy: 0.5756 - loss: 1.1172 - val_accuracy: 0.6868 - val_loss: 0.8899\n",
      "Epoch 32/100\n",
      "\u001b[1m154/154\u001b[0m \u001b[32m━━━━━━━━━━━━━━━━━━━━\u001b[0m\u001b[37m\u001b[0m \u001b[1m0s\u001b[0m 1ms/step - accuracy: 0.5789 - loss: 1.1069 - val_accuracy: 0.6892 - val_loss: 0.8830\n",
      "Epoch 33/100\n",
      "\u001b[1m154/154\u001b[0m \u001b[32m━━━━━━━━━━━━━━━━━━━━\u001b[0m\u001b[37m\u001b[0m \u001b[1m0s\u001b[0m 1ms/step - accuracy: 0.6051 - loss: 1.0777 - val_accuracy: 0.7015 - val_loss: 0.8627\n",
      "Epoch 34/100\n",
      "\u001b[1m154/154\u001b[0m \u001b[32m━━━━━━━━━━━━━━━━━━━━\u001b[0m\u001b[37m\u001b[0m \u001b[1m0s\u001b[0m 1ms/step - accuracy: 0.6053 - loss: 1.0666 - val_accuracy: 0.7064 - val_loss: 0.8452\n",
      "Epoch 35/100\n",
      "\u001b[1m154/154\u001b[0m \u001b[32m━━━━━━━━━━━━━━━━━━━━\u001b[0m\u001b[37m\u001b[0m \u001b[1m0s\u001b[0m 1ms/step - accuracy: 0.5928 - loss: 1.0792 - val_accuracy: 0.6835 - val_loss: 0.8731\n",
      "Epoch 36/100\n",
      "\u001b[1m154/154\u001b[0m \u001b[32m━━━━━━━━━━━━━━━━━━━━\u001b[0m\u001b[37m\u001b[0m \u001b[1m0s\u001b[0m 1ms/step - accuracy: 0.5914 - loss: 1.0883 - val_accuracy: 0.6966 - val_loss: 0.8546\n",
      "Epoch 37/100\n",
      "\u001b[1m154/154\u001b[0m \u001b[32m━━━━━━━━━━━━━━━━━━━━\u001b[0m\u001b[37m\u001b[0m \u001b[1m0s\u001b[0m 1ms/step - accuracy: 0.5870 - loss: 1.0777 - val_accuracy: 0.6786 - val_loss: 0.8659\n",
      "Epoch 38/100\n",
      "\u001b[1m154/154\u001b[0m \u001b[32m━━━━━━━━━━━━━━━━━━━━\u001b[0m\u001b[37m\u001b[0m \u001b[1m0s\u001b[0m 1ms/step - accuracy: 0.6200 - loss: 1.0280 - val_accuracy: 0.7129 - val_loss: 0.8352\n",
      "Epoch 39/100\n",
      "\u001b[1m154/154\u001b[0m \u001b[32m━━━━━━━━━━━━━━━━━━━━\u001b[0m\u001b[37m\u001b[0m \u001b[1m0s\u001b[0m 1ms/step - accuracy: 0.6054 - loss: 1.0501 - val_accuracy: 0.7047 - val_loss: 0.8308\n",
      "Epoch 40/100\n",
      "\u001b[1m154/154\u001b[0m \u001b[32m━━━━━━━━━━━━━━━━━━━━\u001b[0m\u001b[37m\u001b[0m \u001b[1m0s\u001b[0m 1ms/step - accuracy: 0.6111 - loss: 1.0696 - val_accuracy: 0.7055 - val_loss: 0.8163\n",
      "Epoch 41/100\n",
      "\u001b[1m154/154\u001b[0m \u001b[32m━━━━━━━━━━━━━━━━━━━━\u001b[0m\u001b[37m\u001b[0m \u001b[1m0s\u001b[0m 1ms/step - accuracy: 0.6149 - loss: 1.0325 - val_accuracy: 0.6688 - val_loss: 0.8959\n",
      "Epoch 42/100\n",
      "\u001b[1m154/154\u001b[0m \u001b[32m━━━━━━━━━━━━━━━━━━━━\u001b[0m\u001b[37m\u001b[0m \u001b[1m0s\u001b[0m 1ms/step - accuracy: 0.6113 - loss: 1.0369 - val_accuracy: 0.6958 - val_loss: 0.8332\n",
      "Epoch 43/100\n",
      "\u001b[1m154/154\u001b[0m \u001b[32m━━━━━━━━━━━━━━━━━━━━\u001b[0m\u001b[37m\u001b[0m \u001b[1m0s\u001b[0m 1ms/step - accuracy: 0.6144 - loss: 1.0467 - val_accuracy: 0.6974 - val_loss: 0.8462\n",
      "Epoch 44/100\n",
      "\u001b[1m154/154\u001b[0m \u001b[32m━━━━━━━━━━━━━━━━━━━━\u001b[0m\u001b[37m\u001b[0m \u001b[1m0s\u001b[0m 1ms/step - accuracy: 0.5951 - loss: 1.0944 - val_accuracy: 0.6803 - val_loss: 0.8448\n",
      "Epoch 45/100\n",
      "\u001b[1m154/154\u001b[0m \u001b[32m━━━━━━━━━━━━━━━━━━━━\u001b[0m\u001b[37m\u001b[0m \u001b[1m0s\u001b[0m 1ms/step - accuracy: 0.6039 - loss: 1.0533 - val_accuracy: 0.7088 - val_loss: 0.8318\n",
      "Epoch 46/100\n",
      "\u001b[1m154/154\u001b[0m \u001b[32m━━━━━━━━━━━━━━━━━━━━\u001b[0m\u001b[37m\u001b[0m \u001b[1m0s\u001b[0m 1ms/step - accuracy: 0.6250 - loss: 1.0044 - val_accuracy: 0.6917 - val_loss: 0.8466\n",
      "Epoch 47/100\n",
      "\u001b[1m154/154\u001b[0m \u001b[32m━━━━━━━━━━━━━━━━━━━━\u001b[0m\u001b[37m\u001b[0m \u001b[1m0s\u001b[0m 1ms/step - accuracy: 0.5792 - loss: 1.1103 - val_accuracy: 0.6966 - val_loss: 0.8159\n",
      "Epoch 48/100\n",
      "\u001b[1m154/154\u001b[0m \u001b[32m━━━━━━━━━━━━━━━━━━━━\u001b[0m\u001b[37m\u001b[0m \u001b[1m0s\u001b[0m 1ms/step - accuracy: 0.6066 - loss: 1.0478 - val_accuracy: 0.7170 - val_loss: 0.7931\n",
      "Epoch 49/100\n",
      "\u001b[1m154/154\u001b[0m \u001b[32m━━━━━━━━━━━━━━━━━━━━\u001b[0m\u001b[37m\u001b[0m \u001b[1m0s\u001b[0m 1ms/step - accuracy: 0.6206 - loss: 1.0128 - val_accuracy: 0.7186 - val_loss: 0.7841\n",
      "Epoch 50/100\n",
      "\u001b[1m154/154\u001b[0m \u001b[32m━━━━━━━━━━━━━━━━━━━━\u001b[0m\u001b[37m\u001b[0m \u001b[1m0s\u001b[0m 1ms/step - accuracy: 0.6091 - loss: 1.0343 - val_accuracy: 0.7153 - val_loss: 0.7965\n",
      "Epoch 51/100\n",
      "\u001b[1m154/154\u001b[0m \u001b[32m━━━━━━━━━━━━━━━━━━━━\u001b[0m\u001b[37m\u001b[0m \u001b[1m0s\u001b[0m 1ms/step - accuracy: 0.6185 - loss: 1.0045 - val_accuracy: 0.7162 - val_loss: 0.7858\n",
      "Epoch 52/100\n",
      "\u001b[1m154/154\u001b[0m \u001b[32m━━━━━━━━━━━━━━━━━━━━\u001b[0m\u001b[37m\u001b[0m \u001b[1m0s\u001b[0m 1ms/step - accuracy: 0.5919 - loss: 1.0822 - val_accuracy: 0.7104 - val_loss: 0.7963\n",
      "Epoch 53/100\n",
      "\u001b[1m154/154\u001b[0m \u001b[32m━━━━━━━━━━━━━━━━━━━━\u001b[0m\u001b[37m\u001b[0m \u001b[1m0s\u001b[0m 1ms/step - accuracy: 0.6125 - loss: 1.0370 - val_accuracy: 0.7104 - val_loss: 0.7905\n",
      "Epoch 54/100\n",
      "\u001b[1m154/154\u001b[0m \u001b[32m━━━━━━━━━━━━━━━━━━━━\u001b[0m\u001b[37m\u001b[0m \u001b[1m0s\u001b[0m 982us/step - accuracy: 0.6066 - loss: 0.9952 - val_accuracy: 0.7007 - val_loss: 0.7983\n",
      "Epoch 55/100\n",
      "\u001b[1m154/154\u001b[0m \u001b[32m━━━━━━━━━━━━━━━━━━━━\u001b[0m\u001b[37m\u001b[0m \u001b[1m0s\u001b[0m 1ms/step - accuracy: 0.6234 - loss: 1.0149 - val_accuracy: 0.7137 - val_loss: 0.7792\n",
      "Epoch 56/100\n",
      "\u001b[1m154/154\u001b[0m \u001b[32m━━━━━━━━━━━━━━━━━━━━\u001b[0m\u001b[37m\u001b[0m \u001b[1m0s\u001b[0m 1ms/step - accuracy: 0.6109 - loss: 1.0030 - val_accuracy: 0.7137 - val_loss: 0.7910\n",
      "Epoch 57/100\n",
      "\u001b[1m154/154\u001b[0m \u001b[32m━━━━━━━━━━━━━━━━━━━━\u001b[0m\u001b[37m\u001b[0m \u001b[1m0s\u001b[0m 989us/step - accuracy: 0.6121 - loss: 1.0416 - val_accuracy: 0.7251 - val_loss: 0.7776\n",
      "Epoch 58/100\n",
      "\u001b[1m154/154\u001b[0m \u001b[32m━━━━━━━━━━━━━━━━━━━━\u001b[0m\u001b[37m\u001b[0m \u001b[1m0s\u001b[0m 993us/step - accuracy: 0.6404 - loss: 0.9659 - val_accuracy: 0.7129 - val_loss: 0.7801\n",
      "Epoch 59/100\n",
      "\u001b[1m154/154\u001b[0m \u001b[32m━━━━━━━━━━━━━━━━━━━━\u001b[0m\u001b[37m\u001b[0m \u001b[1m0s\u001b[0m 987us/step - accuracy: 0.6147 - loss: 1.0182 - val_accuracy: 0.7202 - val_loss: 0.7776\n",
      "Epoch 60/100\n",
      "\u001b[1m154/154\u001b[0m \u001b[32m━━━━━━━━━━━━━━━━━━━━\u001b[0m\u001b[37m\u001b[0m \u001b[1m0s\u001b[0m 977us/step - accuracy: 0.6228 - loss: 1.0197 - val_accuracy: 0.7121 - val_loss: 0.7537\n",
      "Epoch 61/100\n",
      "\u001b[1m154/154\u001b[0m \u001b[32m━━━━━━━━━━━━━━━━━━━━\u001b[0m\u001b[37m\u001b[0m \u001b[1m0s\u001b[0m 974us/step - accuracy: 0.6266 - loss: 1.0013 - val_accuracy: 0.7104 - val_loss: 0.7649\n",
      "Epoch 62/100\n",
      "\u001b[1m154/154\u001b[0m \u001b[32m━━━━━━━━━━━━━━━━━━━━\u001b[0m\u001b[37m\u001b[0m \u001b[1m0s\u001b[0m 1ms/step - accuracy: 0.6239 - loss: 1.0265 - val_accuracy: 0.7268 - val_loss: 0.7603\n",
      "Epoch 63/100\n",
      "\u001b[1m154/154\u001b[0m \u001b[32m━━━━━━━━━━━━━━━━━━━━\u001b[0m\u001b[37m\u001b[0m \u001b[1m0s\u001b[0m 982us/step - accuracy: 0.6109 - loss: 1.0163 - val_accuracy: 0.7055 - val_loss: 0.7762\n",
      "Epoch 64/100\n",
      "\u001b[1m154/154\u001b[0m \u001b[32m━━━━━━━━━━━━━━━━━━━━\u001b[0m\u001b[37m\u001b[0m \u001b[1m0s\u001b[0m 990us/step - accuracy: 0.6461 - loss: 0.9671 - val_accuracy: 0.7170 - val_loss: 0.7611\n",
      "Epoch 65/100\n",
      "\u001b[1m154/154\u001b[0m \u001b[32m━━━━━━━━━━━━━━━━━━━━\u001b[0m\u001b[37m\u001b[0m \u001b[1m0s\u001b[0m 991us/step - accuracy: 0.6325 - loss: 0.9703 - val_accuracy: 0.7325 - val_loss: 0.7492\n",
      "Epoch 66/100\n",
      "\u001b[1m154/154\u001b[0m \u001b[32m━━━━━━━━━━━━━━━━━━━━\u001b[0m\u001b[37m\u001b[0m \u001b[1m0s\u001b[0m 945us/step - accuracy: 0.6129 - loss: 1.0268 - val_accuracy: 0.7104 - val_loss: 0.7797\n",
      "Epoch 67/100\n",
      "\u001b[1m154/154\u001b[0m \u001b[32m━━━━━━━━━━━━━━━━━━━━\u001b[0m\u001b[37m\u001b[0m \u001b[1m0s\u001b[0m 956us/step - accuracy: 0.6319 - loss: 0.9871 - val_accuracy: 0.7341 - val_loss: 0.7518\n",
      "Epoch 68/100\n",
      "\u001b[1m154/154\u001b[0m \u001b[32m━━━━━━━━━━━━━━━━━━━━\u001b[0m\u001b[37m\u001b[0m \u001b[1m0s\u001b[0m 1ms/step - accuracy: 0.6277 - loss: 1.0053 - val_accuracy: 0.7072 - val_loss: 0.7825\n",
      "Epoch 69/100\n",
      "\u001b[1m154/154\u001b[0m \u001b[32m━━━━━━━━━━━━━━━━━━━━\u001b[0m\u001b[37m\u001b[0m \u001b[1m0s\u001b[0m 1ms/step - accuracy: 0.6252 - loss: 0.9921 - val_accuracy: 0.7194 - val_loss: 0.7433\n",
      "Epoch 70/100\n",
      "\u001b[1m154/154\u001b[0m \u001b[32m━━━━━━━━━━━━━━━━━━━━\u001b[0m\u001b[37m\u001b[0m \u001b[1m0s\u001b[0m 972us/step - accuracy: 0.6189 - loss: 1.0199 - val_accuracy: 0.7186 - val_loss: 0.7564\n",
      "Epoch 71/100\n",
      "\u001b[1m154/154\u001b[0m \u001b[32m━━━━━━━━━━━━━━━━━━━━\u001b[0m\u001b[37m\u001b[0m \u001b[1m0s\u001b[0m 978us/step - accuracy: 0.6315 - loss: 0.9958 - val_accuracy: 0.7243 - val_loss: 0.7669\n",
      "Epoch 72/100\n",
      "\u001b[1m154/154\u001b[0m \u001b[32m━━━━━━━━━━━━━━━━━━━━\u001b[0m\u001b[37m\u001b[0m \u001b[1m0s\u001b[0m 1ms/step - accuracy: 0.6289 - loss: 0.9981 - val_accuracy: 0.7104 - val_loss: 0.7608\n",
      "Epoch 73/100\n",
      "\u001b[1m154/154\u001b[0m \u001b[32m━━━━━━━━━━━━━━━━━━━━\u001b[0m\u001b[37m\u001b[0m \u001b[1m0s\u001b[0m 1ms/step - accuracy: 0.6436 - loss: 0.9720 - val_accuracy: 0.7210 - val_loss: 0.7301\n",
      "Epoch 74/100\n",
      "\u001b[1m154/154\u001b[0m \u001b[32m━━━━━━━━━━━━━━━━━━━━\u001b[0m\u001b[37m\u001b[0m \u001b[1m0s\u001b[0m 1ms/step - accuracy: 0.6442 - loss: 0.9400 - val_accuracy: 0.7088 - val_loss: 0.7746\n",
      "Epoch 75/100\n",
      "\u001b[1m154/154\u001b[0m \u001b[32m━━━━━━━━━━━━━━━━━━━━\u001b[0m\u001b[37m\u001b[0m \u001b[1m0s\u001b[0m 1ms/step - accuracy: 0.6275 - loss: 0.9886 - val_accuracy: 0.7194 - val_loss: 0.7395\n",
      "Epoch 76/100\n",
      "\u001b[1m154/154\u001b[0m \u001b[32m━━━━━━━━━━━━━━━━━━━━\u001b[0m\u001b[37m\u001b[0m \u001b[1m0s\u001b[0m 1ms/step - accuracy: 0.6385 - loss: 0.9757 - val_accuracy: 0.7300 - val_loss: 0.7327\n",
      "Epoch 77/100\n",
      "\u001b[1m154/154\u001b[0m \u001b[32m━━━━━━━━━━━━━━━━━━━━\u001b[0m\u001b[37m\u001b[0m \u001b[1m0s\u001b[0m 1ms/step - accuracy: 0.6330 - loss: 0.9610 - val_accuracy: 0.7251 - val_loss: 0.7468\n",
      "Epoch 78/100\n",
      "\u001b[1m154/154\u001b[0m \u001b[32m━━━━━━━━━━━━━━━━━━━━\u001b[0m\u001b[37m\u001b[0m \u001b[1m0s\u001b[0m 1ms/step - accuracy: 0.6206 - loss: 0.9975 - val_accuracy: 0.7137 - val_loss: 0.7437\n",
      "Epoch 79/100\n",
      "\u001b[1m154/154\u001b[0m \u001b[32m━━━━━━━━━━━━━━━━━━━━\u001b[0m\u001b[37m\u001b[0m \u001b[1m0s\u001b[0m 1ms/step - accuracy: 0.6228 - loss: 0.9882 - val_accuracy: 0.7064 - val_loss: 0.7674\n",
      "Epoch 80/100\n",
      "\u001b[1m154/154\u001b[0m \u001b[32m━━━━━━━━━━━━━━━━━━━━\u001b[0m\u001b[37m\u001b[0m \u001b[1m0s\u001b[0m 1ms/step - accuracy: 0.6345 - loss: 0.9933 - val_accuracy: 0.7268 - val_loss: 0.7232\n",
      "Epoch 81/100\n",
      "\u001b[1m154/154\u001b[0m \u001b[32m━━━━━━━━━━━━━━━━━━━━\u001b[0m\u001b[37m\u001b[0m \u001b[1m0s\u001b[0m 1ms/step - accuracy: 0.6354 - loss: 0.9748 - val_accuracy: 0.7113 - val_loss: 0.7440\n",
      "Epoch 82/100\n",
      "\u001b[1m154/154\u001b[0m \u001b[32m━━━━━━━━━━━━━━━━━━━━\u001b[0m\u001b[37m\u001b[0m \u001b[1m0s\u001b[0m 1ms/step - accuracy: 0.6369 - loss: 0.9926 - val_accuracy: 0.7219 - val_loss: 0.7355\n",
      "Epoch 83/100\n",
      "\u001b[1m154/154\u001b[0m \u001b[32m━━━━━━━━━━━━━━━━━━━━\u001b[0m\u001b[37m\u001b[0m \u001b[1m0s\u001b[0m 993us/step - accuracy: 0.6292 - loss: 0.9691 - val_accuracy: 0.7382 - val_loss: 0.7413\n",
      "Epoch 84/100\n",
      "\u001b[1m154/154\u001b[0m \u001b[32m━━━━━━━━━━━━━━━━━━━━\u001b[0m\u001b[37m\u001b[0m \u001b[1m0s\u001b[0m 1ms/step - accuracy: 0.6525 - loss: 0.9476 - val_accuracy: 0.7316 - val_loss: 0.7194\n",
      "Epoch 85/100\n",
      "\u001b[1m154/154\u001b[0m \u001b[32m━━━━━━━━━━━━━━━━━━━━\u001b[0m\u001b[37m\u001b[0m \u001b[1m0s\u001b[0m 992us/step - accuracy: 0.6407 - loss: 0.9581 - val_accuracy: 0.7104 - val_loss: 0.7415\n",
      "Epoch 86/100\n",
      "\u001b[1m154/154\u001b[0m \u001b[32m━━━━━━━━━━━━━━━━━━━━\u001b[0m\u001b[37m\u001b[0m \u001b[1m0s\u001b[0m 1ms/step - accuracy: 0.6444 - loss: 0.9598 - val_accuracy: 0.7259 - val_loss: 0.7314\n",
      "Epoch 87/100\n",
      "\u001b[1m154/154\u001b[0m \u001b[32m━━━━━━━━━━━━━━━━━━━━\u001b[0m\u001b[37m\u001b[0m \u001b[1m0s\u001b[0m 1ms/step - accuracy: 0.6532 - loss: 0.9343 - val_accuracy: 0.7259 - val_loss: 0.7202\n",
      "Epoch 88/100\n",
      "\u001b[1m154/154\u001b[0m \u001b[32m━━━━━━━━━━━━━━━━━━━━\u001b[0m\u001b[37m\u001b[0m \u001b[1m0s\u001b[0m 946us/step - accuracy: 0.6391 - loss: 0.9208 - val_accuracy: 0.7251 - val_loss: 0.7102\n",
      "Epoch 89/100\n",
      "\u001b[1m154/154\u001b[0m \u001b[32m━━━━━━━━━━━━━━━━━━━━\u001b[0m\u001b[37m\u001b[0m \u001b[1m0s\u001b[0m 1ms/step - accuracy: 0.6395 - loss: 0.9687 - val_accuracy: 0.7439 - val_loss: 0.7199\n",
      "Epoch 90/100\n",
      "\u001b[1m154/154\u001b[0m \u001b[32m━━━━━━━━━━━━━━━━━━━━\u001b[0m\u001b[37m\u001b[0m \u001b[1m0s\u001b[0m 1ms/step - accuracy: 0.6373 - loss: 0.9634 - val_accuracy: 0.7398 - val_loss: 0.7118\n",
      "Epoch 91/100\n",
      "\u001b[1m154/154\u001b[0m \u001b[32m━━━━━━━━━━━━━━━━━━━━\u001b[0m\u001b[37m\u001b[0m \u001b[1m0s\u001b[0m 1ms/step - accuracy: 0.6350 - loss: 0.9634 - val_accuracy: 0.7333 - val_loss: 0.6958\n",
      "Epoch 92/100\n",
      "\u001b[1m154/154\u001b[0m \u001b[32m━━━━━━━━━━━━━━━━━━━━\u001b[0m\u001b[37m\u001b[0m \u001b[1m0s\u001b[0m 1ms/step - accuracy: 0.6433 - loss: 0.9455 - val_accuracy: 0.7316 - val_loss: 0.7358\n",
      "Epoch 93/100\n",
      "\u001b[1m154/154\u001b[0m \u001b[32m━━━━━━━━━━━━━━━━━━━━\u001b[0m\u001b[37m\u001b[0m \u001b[1m0s\u001b[0m 981us/step - accuracy: 0.6576 - loss: 0.9295 - val_accuracy: 0.7259 - val_loss: 0.7178\n",
      "Epoch 94/100\n",
      "\u001b[1m154/154\u001b[0m \u001b[32m━━━━━━━━━━━━━━━━━━━━\u001b[0m\u001b[37m\u001b[0m \u001b[1m0s\u001b[0m 1ms/step - accuracy: 0.6463 - loss: 0.9383 - val_accuracy: 0.7308 - val_loss: 0.6929\n",
      "Epoch 95/100\n",
      "\u001b[1m154/154\u001b[0m \u001b[32m━━━━━━━━━━━━━━━━━━━━\u001b[0m\u001b[37m\u001b[0m \u001b[1m0s\u001b[0m 949us/step - accuracy: 0.6496 - loss: 0.9391 - val_accuracy: 0.7349 - val_loss: 0.7106\n",
      "Epoch 96/100\n",
      "\u001b[1m154/154\u001b[0m \u001b[32m━━━━━━━━━━━━━━━━━━━━\u001b[0m\u001b[37m\u001b[0m \u001b[1m0s\u001b[0m 923us/step - accuracy: 0.6446 - loss: 0.9238 - val_accuracy: 0.7202 - val_loss: 0.7240\n",
      "Epoch 97/100\n",
      "\u001b[1m154/154\u001b[0m \u001b[32m━━━━━━━━━━━━━━━━━━━━\u001b[0m\u001b[37m\u001b[0m \u001b[1m0s\u001b[0m 1ms/step - accuracy: 0.6536 - loss: 0.9171 - val_accuracy: 0.7333 - val_loss: 0.7019\n",
      "Epoch 98/100\n",
      "\u001b[1m154/154\u001b[0m \u001b[32m━━━━━━━━━━━━━━━━━━━━\u001b[0m\u001b[37m\u001b[0m \u001b[1m0s\u001b[0m 1ms/step - accuracy: 0.6297 - loss: 0.9656 - val_accuracy: 0.7292 - val_loss: 0.7263\n",
      "Epoch 99/100\n",
      "\u001b[1m154/154\u001b[0m \u001b[32m━━━━━━━━━━━━━━━━━━━━\u001b[0m\u001b[37m\u001b[0m \u001b[1m0s\u001b[0m 1ms/step - accuracy: 0.6465 - loss: 0.9366 - val_accuracy: 0.7227 - val_loss: 0.7306\n",
      "Epoch 100/100\n",
      "\u001b[1m154/154\u001b[0m \u001b[32m━━━━━━━━━━━━━━━━━━━━\u001b[0m\u001b[37m\u001b[0m \u001b[1m0s\u001b[0m 1ms/step - accuracy: 0.6357 - loss: 0.9736 - val_accuracy: 0.7414 - val_loss: 0.6892\n"
     ]
    }
   ],
   "source": [
    "# Train the model\n",
    "history = model.fit(\n",
    "    X_train, y_train,\n",
    "    validation_split=0.2,\n",
    "    epochs=100,\n",
    "    batch_size=32\n",
    ")\n"
   ]
  }
 ],
 "metadata": {
  "kernelspec": {
   "display_name": "venv",
   "language": "python",
   "name": "python3"
  },
  "language_info": {
   "codemirror_mode": {
    "name": "ipython",
    "version": 3
   },
   "file_extension": ".py",
   "mimetype": "text/x-python",
   "name": "python",
   "nbconvert_exporter": "python",
   "pygments_lexer": "ipython3",
   "version": "3.11.8"
  }
 },
 "nbformat": 4,
 "nbformat_minor": 2
}
